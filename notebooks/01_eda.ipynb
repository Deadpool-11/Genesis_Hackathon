{
 "cells": [
  {
   "cell_type": "markdown",
   "metadata": {},
   "source": [
    "# 01 – Exploratory Data Analysis\n",
    "Load logs and inspect basic distributions.\n"
   ]
  },
  {
   "cell_type": "code",
   "execution_count": null,
   "metadata": {},
   "outputs": [],
   "source": [
    "import pandas as pd\n",
    "import matplotlib.pyplot as plt\n",
    "from pathlib import Path\n",
    "logs = pd.read_csv('data/router_logs_15_days.csv')\n",
    "logs.head()"
   ]
  },
  {
   "cell_type": "code",
   "execution_count": null,
   "metadata": {},
   "outputs": [],
   "source": [
    "# Parse and quick features\n",
    "logs['Timestamp'] = pd.to_datetime(logs['Timestamp'], errors='coerce')\n",
    "logs = logs.dropna(subset=['Timestamp']).sort_values('Timestamp')\n",
    "logs['hour'] = logs['Timestamp'].dt.hour\n",
    "logs['dow'] = logs['Timestamp'].dt.dayofweek\n",
    "if 'Bandwidth Allocated (MB/s)' in logs.columns and 'Bandwidth Used (MB/s)' in logs.columns:\n",
    "    logs['utilization_ratio'] = logs['Bandwidth Used (MB/s)'] / logs['Bandwidth Allocated (MB/s)']\n",
    "logs.describe(include='all')"
   ]
  }
 ],
 "metadata": {
  "kernelspec": {
   "display_name": "Python 3",
   "language": "python",
   "name": "python3"
  }
 },
 "nbformat": 4,
 "nbformat_minor": 5
}
