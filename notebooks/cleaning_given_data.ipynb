{
  "cells": [
    {
      "cell_type": "code",
      "execution_count": null,
      "metadata": {
        "colab": {
          "base_uri": "https://localhost:8080/",
          "height": 295
        },
        "id": "WZ4ceeE5Tc9W",
        "outputId": "2972047e-9cca-44df-880f-981f9a3f2ccc"
      },
      "outputs": [
        {
          "name": "stdout",
          "output_type": "stream",
          "text": [
            "Error: Make sure all CSV files are uploaded to your Colab session.\n"
          ]
        },
        {
          "ename": "NameError",
          "evalue": "name 'config_history_df' is not defined",
          "output_type": "error",
          "traceback": [
            "\u001b[0;31m---------------------------------------------------------------------------\u001b[0m",
            "\u001b[0;31mNameError\u001b[0m                                 Traceback (most recent call last)",
            "Cell \u001b[0;32mIn[1], line 37\u001b[0m\n\u001b[1;32m     35\u001b[0m user_activity_df[\u001b[38;5;124m'\u001b[39m\u001b[38;5;124mDate\u001b[39m\u001b[38;5;124m'\u001b[39m] \u001b[38;5;241m=\u001b[39m pd\u001b[38;5;241m.\u001b[39mto_datetime(user_activity_df[\u001b[38;5;124m'\u001b[39m\u001b[38;5;124mDate\u001b[39m\u001b[38;5;124m'\u001b[39m])\n\u001b[1;32m     36\u001b[0m external_factors_df[\u001b[38;5;124m'\u001b[39m\u001b[38;5;124mDate\u001b[39m\u001b[38;5;124m'\u001b[39m] \u001b[38;5;241m=\u001b[39m pd\u001b[38;5;241m.\u001b[39mto_datetime(external_factors_df[\u001b[38;5;124m'\u001b[39m\u001b[38;5;124mDate\u001b[39m\u001b[38;5;124m'\u001b[39m])\n\u001b[0;32m---> 37\u001b[0m config_history_df[\u001b[38;5;124m'\u001b[39m\u001b[38;5;124mDate\u001b[39m\u001b[38;5;124m'\u001b[39m] \u001b[38;5;241m=\u001b[39m pd\u001b[38;5;241m.\u001b[39mto_datetime(config_history_df[\u001b[38;5;124m'\u001b[39m\u001b[38;5;124mDate\u001b[39m\u001b[38;5;124m'\u001b[39m])\n\u001b[1;32m     39\u001b[0m daily_app_summary \u001b[38;5;241m=\u001b[39m app_usage_df\u001b[38;5;241m.\u001b[39mgroupby(\u001b[38;5;124m'\u001b[39m\u001b[38;5;124mDate\u001b[39m\u001b[38;5;124m'\u001b[39m)\u001b[38;5;241m.\u001b[39magg(total_peak_app_traffic\u001b[38;5;241m=\u001b[39m(\u001b[38;5;124m'\u001b[39m\u001b[38;5;124mPeak_Traffic_MB\u001b[39m\u001b[38;5;124m'\u001b[39m, \u001b[38;5;124m'\u001b[39m\u001b[38;5;124msum\u001b[39m\u001b[38;5;124m'\u001b[39m))\u001b[38;5;241m.\u001b[39mreset_index()\n\u001b[1;32m     40\u001b[0m daily_user_summary \u001b[38;5;241m=\u001b[39m user_activity_df\u001b[38;5;241m.\u001b[39mgroupby(\u001b[38;5;124m'\u001b[39m\u001b[38;5;124mDate\u001b[39m\u001b[38;5;124m'\u001b[39m)\u001b[38;5;241m.\u001b[39magg(total_logins\u001b[38;5;241m=\u001b[39m(\u001b[38;5;124m'\u001b[39m\u001b[38;5;124mLogin_Count\u001b[39m\u001b[38;5;124m'\u001b[39m, \u001b[38;5;124m'\u001b[39m\u001b[38;5;124msum\u001b[39m\u001b[38;5;124m'\u001b[39m))\u001b[38;5;241m.\u001b[39mreset_index()\n",
            "\u001b[0;31mNameError\u001b[0m: name 'config_history_df' is not defined"
          ]
        },
        {
          "ename": "",
          "evalue": "",
          "output_type": "error",
          "traceback": [
            "\u001b[1;31mThe Kernel crashed while executing code in the current cell or a previous cell. \n",
            "\u001b[1;31mPlease review the code in the cell(s) to identify a possible cause of the failure. \n",
            "\u001b[1;31mClick <a href='https://aka.ms/vscodeJupyterKernelCrash'>here</a> for more info. \n",
            "\u001b[1;31mView Jupyter <a href='command:jupyter.viewOutput'>log</a> for further details."
          ]
        }
      ],
      "source": [
        "import pandas as pd\n",
        "\n",
        "\n",
        "# --- Step 1: Load All Your Datasets ---\n",
        "try:\n",
        "    router_a_df = pd.read_csv('data/raw/Router_A_router_log_15_days.csv')\n",
        "    router_b_df = pd.read_csv('data/raw/Router_B_router_log_15_days.csv')\n",
        "    router_c_df = pd.read_csv('data/raw/Router_C_router_log_15_days.csv')\n",
        "    app_usage_df = pd.read_csv('data/raw/application_usage.csv')\n",
        "    user_activity_df = pd.read_csv('data/raw/user_activity.csv')\n",
        "    external_factors_df = pd.read_csv('data/raw/external_factors.csv')\n",
        "    config_history_df = pd.read_csv('configuration_history.csv') # Load the new file\n",
        "except FileNotFoundError:\n",
        "    print(\"Error: Make sure all CSV files are uploaded to your Colab session.\")\n",
        "    exit()\n",
        "\n",
        "# --- Step 2: Combine Router Logs and Create the New Congestion Flag ---\n",
        "all_routers_df = pd.concat([router_a_df, router_b_df, router_c_df], ignore_index=True)\n",
        "\n",
        "def create_new_flag(row):\n",
        "    if row['Bandwidth Allocated (MB/s)'] == 0:\n",
        "        return 0\n",
        "    utilization = row['Bandwidth Used (MB/s)'] / row['Bandwidth Allocated (MB/s)']\n",
        "    latency = row['Latency (ms)']\n",
        "    if utilization > 0.85 or (utilization > 0.7 and latency > 45):\n",
        "        return 1\n",
        "    return 0\n",
        "\n",
        "all_routers_df['New_Flag'] = all_routers_df.apply(create_new_flag, axis=1)\n",
        "all_routers_df['Timestamp'] = pd.to_datetime(all_routers_df['Timestamp'])\n",
        "all_routers_df['Date'] = pd.to_datetime(all_routers_df['Timestamp'].dt.date)\n",
        "\n",
        "# --- Step 3: Aggregate Daily Datasets ---\n",
        "app_usage_df['Date'] = pd.to_datetime(app_usage_df['Date'])\n",
        "user_activity_df['Date'] = pd.to_datetime(user_activity_df['Date'])\n",
        "external_factors_df['Date'] = pd.to_datetime(external_factors_df['Date'])\n",
        "config_history_df['Date'] = pd.to_datetime(config_history_df['Date'])\n",
        "\n",
        "daily_app_summary = app_usage_df.groupby('Date').agg(total_peak_app_traffic=('Peak_Traffic_MB', 'sum')).reset_index()\n",
        "daily_user_summary = user_activity_df.groupby('Date').agg(total_logins=('Login_Count', 'sum')).reset_index()\n",
        "\n",
        "# --- NEW: Process Configuration History ---\n",
        "# Rename 'Device' to 'Device Name' for a consistent merge key\n",
        "config_history_df.rename(columns={'Device': 'Device Name'}, inplace=True)\n",
        "# Count the number of changes per device per day\n",
        "daily_config_summary = config_history_df.groupby(['Date', 'Device Name']).size().reset_index(name='Num_Config_Changes')\n",
        "\n",
        "# --- Step 4: Merge All Data into a Single DataFrame ---\n",
        "# Merge the daily summaries first\n",
        "merged_df = pd.merge(all_routers_df, daily_app_summary, on='Date', how='left')\n",
        "merged_df = pd.merge(merged_df, daily_user_summary, on='Date', how='left')\n",
        "merged_df = pd.merge(merged_df, external_factors_df, on='Date', how='left')\n",
        "\n",
        "# Now merge the configuration history using the composite key\n",
        "merged_df = pd.merge(merged_df, daily_config_summary, on=['Date', 'Device Name'], how='left')\n",
        "\n",
        "# Fill any missing values after the merges\n",
        "merged_df.fillna({'Event': 'None', 'Impact': 'None', 'Num_Config_Changes': 0}, inplace=True)\n",
        "# Convert Num_Config_Changes to integer\n",
        "merged_df['Num_Config_Changes'] = merged_df['Num_Config_Changes'].astype(int)\n",
        "\n",
        "# --- Step 5: Sort the DataFrame ---\n",
        "sorted_df = merged_df.sort_values(by=['Timestamp', 'Device Name']).reset_index(drop=True)\n",
        "\n",
        "# --- Step 6: Save and Download the Final File ---\n",
        "file_name = 'final_model_ready_dataset.csv'\n",
        "sorted_df.to_csv(file_name, index=False)\n",
        "\n",
        "print(f\"Successfully created the final file '{file_name}' with all data merged.\")\n",
        "print(\"\\nHere are the first 10 rows to show the final result, including 'Num_Config_Changes':\")\n",
        "print(sorted_df[['Timestamp', 'Device Name', 'New_Flag', 'total_logins', 'Num_Config_Changes']].head(10))\n",
        "\n",
        "print(\"\\nStarting download...\")\n",
        "\n"
      ]
    },
    {
      "cell_type": "markdown",
      "metadata": {
        "id": "3VaVeA4rvXVJ"
      },
      "source": []
    },
    {
      "cell_type": "markdown",
      "metadata": {
        "id": "lOPSZatrvXBj"
      },
      "source": []
    }
  ],
  "metadata": {
    "colab": {
      "provenance": []
    },
    "kernelspec": {
      "display_name": "base",
      "language": "python",
      "name": "python3"
    },
    "language_info": {
      "codemirror_mode": {
        "name": "ipython",
        "version": 3
      },
      "file_extension": ".py",
      "mimetype": "text/x-python",
      "name": "python",
      "nbconvert_exporter": "python",
      "pygments_lexer": "ipython3",
      "version": "3.12.2"
    }
  },
  "nbformat": 4,
  "nbformat_minor": 0
}
