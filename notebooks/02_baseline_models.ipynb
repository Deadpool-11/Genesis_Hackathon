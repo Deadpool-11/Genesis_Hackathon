{
 "cells": [
  {
   "cell_type": "markdown",
   "metadata": {},
   "source": [
    "# 02 – Baseline Models\n",
    "Train a simple classifier to predict next-interval congestion.\n"
   ]
  },
  {
   "cell_type": "code",
   "execution_count": null,
   "metadata": {},
   "outputs": [],
   "source": [
    "from src.utils.config import load_config\n",
    "from src.utils.config import get_paths\n",
    "from src.data.load import load_datasets, prepare_logs\n",
    "from src.data.features import build_features\n",
    "from src.models.train_classifier import build_model\n",
    "cfg = load_config('configs/config.yaml')\n",
    "paths = get_paths(cfg)\n",
    "datasets = load_datasets(paths.data_dir)\n",
    "logs = prepare_logs(datasets['logs'])\n",
    "X, y, meta, feat_cols = build_features(logs, window=cfg['features']['window'])\n",
    "model = build_model(cfg)\n",
    "model.fit(X, y)\n",
    "print('Trained baseline model on all data (demo).')"
   ]
  }
 ],
 "metadata": {
  "kernelspec": {
   "display_name": "Python 3",
   "language": "python",
   "name": "python3"
  }
 },
 "nbformat": 4,
 "nbformat_minor": 5
}
